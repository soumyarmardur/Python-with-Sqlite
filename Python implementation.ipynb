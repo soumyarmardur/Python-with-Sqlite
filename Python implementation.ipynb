{
 "cells": [
  {
   "cell_type": "markdown",
   "metadata": {},
   "source": [
    "### packages "
   ]
  },
  {
   "cell_type": "code",
   "execution_count": 1,
   "metadata": {},
   "outputs": [],
   "source": [
    "import pandas as pd\n",
    "import numpy as np\n",
    "import logging, sys\n",
    "logging.basicConfig(level=logging.INFO)"
   ]
  },
  {
   "cell_type": "code",
   "execution_count": 13,
   "metadata": {},
   "outputs": [
    {
     "name": "stderr",
     "output_type": "stream",
     "text": [
      "INFO:root:import the sqlite data...\n",
      "INFO:root:complete...\n",
      "INFO:root:creating dataframe\n",
      "INFO:root:Dataframe created\n"
     ]
    },
    {
     "data": {
      "text/html": [
       "<div>\n",
       "<style scoped>\n",
       "    .dataframe tbody tr th:only-of-type {\n",
       "        vertical-align: middle;\n",
       "    }\n",
       "\n",
       "    .dataframe tbody tr th {\n",
       "        vertical-align: top;\n",
       "    }\n",
       "\n",
       "    .dataframe thead th {\n",
       "        text-align: right;\n",
       "    }\n",
       "</style>\n",
       "<table border=\"1\" class=\"dataframe\">\n",
       "  <thead>\n",
       "    <tr style=\"text-align: right;\">\n",
       "      <th></th>\n",
       "      <th>device_id</th>\n",
       "      <th>parent_id</th>\n",
       "      <th>name</th>\n",
       "      <th>device_type</th>\n",
       "      <th>voltage</th>\n",
       "      <th>temperature</th>\n",
       "      <th>module</th>\n",
       "      <th>stack</th>\n",
       "    </tr>\n",
       "  </thead>\n",
       "  <tbody>\n",
       "    <tr>\n",
       "      <th>0</th>\n",
       "      <td>12</td>\n",
       "      <td>4.0</td>\n",
       "      <td>Cell 1</td>\n",
       "      <td>cell</td>\n",
       "      <td>2.599</td>\n",
       "      <td>32.1</td>\n",
       "      <td>module1</td>\n",
       "      <td>stack1</td>\n",
       "    </tr>\n",
       "    <tr>\n",
       "      <th>1</th>\n",
       "      <td>13</td>\n",
       "      <td>4.0</td>\n",
       "      <td>Cell 2</td>\n",
       "      <td>cell</td>\n",
       "      <td>2.846</td>\n",
       "      <td>32.5</td>\n",
       "      <td>module1</td>\n",
       "      <td>stack1</td>\n",
       "    </tr>\n",
       "    <tr>\n",
       "      <th>2</th>\n",
       "      <td>14</td>\n",
       "      <td>4.0</td>\n",
       "      <td>Cell 3</td>\n",
       "      <td>cell</td>\n",
       "      <td>2.931</td>\n",
       "      <td>40.1</td>\n",
       "      <td>module1</td>\n",
       "      <td>stack1</td>\n",
       "    </tr>\n",
       "    <tr>\n",
       "      <th>3</th>\n",
       "      <td>15</td>\n",
       "      <td>4.0</td>\n",
       "      <td>Cell 4</td>\n",
       "      <td>cell</td>\n",
       "      <td>3.379</td>\n",
       "      <td>36.7</td>\n",
       "      <td>module1</td>\n",
       "      <td>stack1</td>\n",
       "    </tr>\n",
       "    <tr>\n",
       "      <th>4</th>\n",
       "      <td>16</td>\n",
       "      <td>4.0</td>\n",
       "      <td>Cell 5</td>\n",
       "      <td>cell</td>\n",
       "      <td>0.087</td>\n",
       "      <td>34.4</td>\n",
       "      <td>module1</td>\n",
       "      <td>stack1</td>\n",
       "    </tr>\n",
       "    <tr>\n",
       "      <th>...</th>\n",
       "      <td>...</td>\n",
       "      <td>...</td>\n",
       "      <td>...</td>\n",
       "      <td>...</td>\n",
       "      <td>...</td>\n",
       "      <td>...</td>\n",
       "      <td>...</td>\n",
       "      <td>...</td>\n",
       "    </tr>\n",
       "    <tr>\n",
       "      <th>59</th>\n",
       "      <td>71</td>\n",
       "      <td>11.0</td>\n",
       "      <td>Cell 4</td>\n",
       "      <td>cell</td>\n",
       "      <td>3.182</td>\n",
       "      <td>34.0</td>\n",
       "      <td>module4</td>\n",
       "      <td>stack2</td>\n",
       "    </tr>\n",
       "    <tr>\n",
       "      <th>60</th>\n",
       "      <td>72</td>\n",
       "      <td>11.0</td>\n",
       "      <td>Cell 5</td>\n",
       "      <td>cell</td>\n",
       "      <td>3.235</td>\n",
       "      <td>33.5</td>\n",
       "      <td>module4</td>\n",
       "      <td>stack2</td>\n",
       "    </tr>\n",
       "    <tr>\n",
       "      <th>61</th>\n",
       "      <td>73</td>\n",
       "      <td>11.0</td>\n",
       "      <td>Cell 6</td>\n",
       "      <td>cell</td>\n",
       "      <td>3.358</td>\n",
       "      <td>36.0</td>\n",
       "      <td>module4</td>\n",
       "      <td>stack2</td>\n",
       "    </tr>\n",
       "    <tr>\n",
       "      <th>62</th>\n",
       "      <td>74</td>\n",
       "      <td>11.0</td>\n",
       "      <td>Cell 7</td>\n",
       "      <td>cell</td>\n",
       "      <td>2.797</td>\n",
       "      <td>39.1</td>\n",
       "      <td>module4</td>\n",
       "      <td>stack2</td>\n",
       "    </tr>\n",
       "    <tr>\n",
       "      <th>63</th>\n",
       "      <td>75</td>\n",
       "      <td>11.0</td>\n",
       "      <td>Cell 8</td>\n",
       "      <td>cell</td>\n",
       "      <td>2.665</td>\n",
       "      <td>39.0</td>\n",
       "      <td>module4</td>\n",
       "      <td>stack2</td>\n",
       "    </tr>\n",
       "  </tbody>\n",
       "</table>\n",
       "<p>64 rows × 8 columns</p>\n",
       "</div>"
      ],
      "text/plain": [
       "    device_id  parent_id    name device_type  voltage  temperature   module  \\\n",
       "0          12        4.0  Cell 1        cell    2.599         32.1  module1   \n",
       "1          13        4.0  Cell 2        cell    2.846         32.5  module1   \n",
       "2          14        4.0  Cell 3        cell    2.931         40.1  module1   \n",
       "3          15        4.0  Cell 4        cell    3.379         36.7  module1   \n",
       "4          16        4.0  Cell 5        cell    0.087         34.4  module1   \n",
       "..        ...        ...     ...         ...      ...          ...      ...   \n",
       "59         71       11.0  Cell 4        cell    3.182         34.0  module4   \n",
       "60         72       11.0  Cell 5        cell    3.235         33.5  module4   \n",
       "61         73       11.0  Cell 6        cell    3.358         36.0  module4   \n",
       "62         74       11.0  Cell 7        cell    2.797         39.1  module4   \n",
       "63         75       11.0  Cell 8        cell    2.665         39.0  module4   \n",
       "\n",
       "     stack  \n",
       "0   stack1  \n",
       "1   stack1  \n",
       "2   stack1  \n",
       "3   stack1  \n",
       "4   stack1  \n",
       "..     ...  \n",
       "59  stack2  \n",
       "60  stack2  \n",
       "61  stack2  \n",
       "62  stack2  \n",
       "63  stack2  \n",
       "\n",
       "[64 rows x 8 columns]"
      ]
     },
     "execution_count": 13,
     "metadata": {},
     "output_type": "execute_result"
    }
   ],
   "source": [
    "import sqlite3\n",
    "\n",
    "def data_extraction():\n",
    "    \n",
    "    \n",
    "    logging.info(\"import the sqlite data...\")\n",
    "    con = sqlite3.connect(\"C:\\\\Users\\\\Downloads\\\\bat.sqlite3\") \n",
    "    cur = con.cursor()                                             \n",
    "\n",
    "    device = []\n",
    "    readings=[]\n",
    "    for row in cur.execute('SELECT * FROM device;'):\n",
    "        device.append(row)                                \n",
    "    for row in cur.execute(\"SELECT * FROM readings\"):\n",
    "        readings.append(row)                             \n",
    "    \n",
    "    \n",
    "    logging.info(\"complete...\")\n",
    "    \n",
    "    logging.info(\"creating dataframe\")\n",
    "    device=pd.DataFrame(device)                           \n",
    "    readings=pd.DataFrame(readings)\n",
    "\n",
    "    device.rename(columns={0:\"device_id\",1:\"parent_id\",\n",
    "                           2:\"name\",3:\"device_type\"},inplace=True)   #renaming features of device\n",
    "    device\n",
    "    readings.rename(columns={0:\"device_id\",1:\"voltage\",\n",
    "                             2:\"temperature\"},inplace=True)          #renaming features of readings\n",
    "    readings\n",
    "    \n",
    "    merge_data = (device.merge(readings, left_on='device_id', right_on='device_id') \n",
    "       .reindex(columns=['device_id', 'parent_id', 'name', \n",
    "                         'device_type','voltage','temperature'])) #combining both device and reasings data using common feature device_id\n",
    "    \n",
    "    \n",
    "    \n",
    "    #list of total modules for two stacks i.e.module 1 to 4 fore each stack(stack1 and 2)\n",
    "    module_list=[\"module1\",\"module2\",\"module3\",\"module4\",\n",
    "                 \"module1\",\"module2\",\"module3\",\"module4\"] \n",
    "    #print(module_list)\n",
    "    \n",
    "    stack_list=[\"stack1\",\"stack2\"]                                #list of total stacks\n",
    "    \n",
    "    module_list=np.repeat(module_list,8)                          #modules for 8 cells \n",
    "    Modulelist=pd.DataFrame(module_list)                          #dataframe of total modules for 64 cells\n",
    "    Modulelist.rename(columns={0:\"module\"},inplace=True)          \n",
    "    \n",
    "    stack_list=np.repeat(stack_list,32)                           #total stacks for 64 cells/8 modules\n",
    "    stack_list=pd.DataFrame(stack_list)                           #Convert stacklist to dataframe \n",
    "    stack_list.rename(columns={0:\"stack\"},inplace=True)           \n",
    "    \n",
    "    MergeData=pd.concat([merge_data,Modulelist,stack_list],axis=1)#combined data of merge_data, module and stack dataframe\n",
    "    logging.info(\"Dataframe created\")\n",
    "    \n",
    "    \n",
    "    \n",
    "    \n",
    "    return MergeData                                            \n",
    "data_extraction()                                      "
   ]
  },
  {
   "cell_type": "code",
   "execution_count": 14,
   "metadata": {},
   "outputs": [],
   "source": [
    "MergeData.to_csv(\"C:\\\\Users\\\\Downloads\\\\MergeData.csv\")    #saving combined dataframe to csv file "
   ]
  },
  {
   "cell_type": "markdown",
   "metadata": {},
   "source": [
    "### cell_with_highest_temperature()\n",
    "This function should return the device_id of the cell with the highest temperature."
   ]
  },
  {
   "cell_type": "code",
   "execution_count": null,
   "metadata": {},
   "outputs": [],
   "source": [
    "### def cell_with_highest_temperature(MergeData):                 # function1\n",
    "    MergeData.sort_values([\"temperature\"],ascending=False)\n",
    "    DeviceID=list(MergeData.device_id)\n",
    "    Temp=list(MergeData.temperature)\n",
    "    device_temp = dict(zip(DeviceID,Temp))\n",
    "    device_id_of_the_cell=max(device_temp,key=device_temp.get)\n",
    "    \n",
    "    logging.info(\"device_id of the cell with highest temperature\")\n",
    "    logging.info(device_id_of_the_cell)\n",
    "    return device_id_of_the_cell\n",
    "cell_with_highest_temperature(MergeData)    "
   ]
  },
  {
   "cell_type": "code",
   "execution_count": 22,
   "metadata": {},
   "outputs": [
    {
     "name": "stderr",
     "output_type": "stream",
     "text": [
      "INFO:root:device_id of the cell with highest temperature\n",
      "INFO:root:36\n"
     ]
    }
   ],
   "source": [
    "device_id_of_the_cell=cell_with_highest_temperature(MergeData)    "
   ]
  },
  {
   "cell_type": "markdown",
   "metadata": {},
   "source": [
    "### module_with_highest_temperature()\n",
    "This function should return the device_id of the module which has the cell with the highest temperature \n"
   ]
  },
  {
   "cell_type": "code",
   "execution_count": 23,
   "metadata": {},
   "outputs": [
    {
     "name": "stderr",
     "output_type": "stream",
     "text": [
      "INFO:root:module of the cell with highest temperature\n",
      "INFO:root:24    module4\n",
      "Name: module, dtype: object\n"
     ]
    },
    {
     "data": {
      "text/plain": [
       "24    module4\n",
       "Name: module, dtype: object"
      ]
     },
     "execution_count": 23,
     "metadata": {},
     "output_type": "execute_result"
    }
   ],
   "source": [
    "def module_with_highest_temperature(MergeData,device_id_of_the_cell):                # function2 \n",
    "    module_of_the_cell=MergeData.module[MergeData.device_id==device_id_of_the_cell]\n",
    "    \n",
    "    logging.info(\"module of the cell with highest temperature\")\n",
    "    logging.info(module_of_the_cell)\n",
    "    return module_of_the_cell\n",
    "\n",
    "module_with_highest_temperature(MergeData,device_id_of_the_cell)\n",
    "    "
   ]
  },
  {
   "cell_type": "markdown",
   "metadata": {},
   "source": [
    "### averate_voltage_in module(device_id)\n",
    "This function should return the average voltage of all the cells in all the modules in the stack represented by the device_id, Cells with Voltage below 0.1V are dead cells and should be excluded from this analysis.\n"
   ]
  },
  {
   "cell_type": "code",
   "execution_count": 24,
   "metadata": {},
   "outputs": [
    {
     "name": "stderr",
     "output_type": "stream",
     "text": [
      "INFO:root:average voltage of the cells excluding values equal and less than 0.1\n",
      "INFO:root:2.9813508771929826\n"
     ]
    },
    {
     "data": {
      "text/plain": [
       "2.9813508771929826"
      ]
     },
     "execution_count": 24,
     "metadata": {},
     "output_type": "execute_result"
    }
   ],
   "source": [
    "def averate_voltage_in_module(MergeData):                       #fuction 3\n",
    "    voltage_required=MergeData.voltage[MergeData.voltage>=0.1]\n",
    "    voltage_required=voltage_required.mean()\n",
    "    \n",
    "    logging.info(\"average voltage of the cells excluding values equal and less than 0.1\")\n",
    "    logging.info(voltage_required)\n",
    "    return voltage_required\n",
    "\n",
    "averate_voltage_in_module(MergeData)\n",
    "    "
   ]
  }
 ],
 "metadata": {
  "kernelspec": {
   "display_name": "Python 3",
   "language": "python",
   "name": "python3"
  },
  "language_info": {
   "codemirror_mode": {
    "name": "ipython",
    "version": 3
   },
   "file_extension": ".py",
   "mimetype": "text/x-python",
   "name": "python",
   "nbconvert_exporter": "python",
   "pygments_lexer": "ipython3",
   "version": "3.7.6"
  }
 },
 "nbformat": 4,
 "nbformat_minor": 4
}
